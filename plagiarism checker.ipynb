{
 "cells": [
  {
   "cell_type": "code",
   "execution_count": 1,
   "id": "b17b29a6",
   "metadata": {},
   "outputs": [],
   "source": [
    "import os\n",
    "from sklearn.feature_extraction.text import TfidfVectorizer\n",
    "from sklearn.metrics.pairwise import cosine_similarity\n"
   ]
  },
  {
   "cell_type": "code",
   "execution_count": 2,
   "id": "63028898",
   "metadata": {},
   "outputs": [],
   "source": [
    "student_files = [doc for doc in os.listdir() if doc.endswith('.txt')]\n",
    "student_notes = [open(_file, encoding='utf-8').read() for _file in student_files]"
   ]
  },
  {
   "cell_type": "code",
   "execution_count": 3,
   "id": "66a51c66",
   "metadata": {},
   "outputs": [],
   "source": [
    "def vectorize(Text): return TfidfVectorizer().fit_transform(Text).toarray()\n",
    "def similarity(doc1, doc2): return cosine_similarity([doc1, doc2])\n"
   ]
  },
  {
   "cell_type": "code",
   "execution_count": 4,
   "id": "28170590",
   "metadata": {},
   "outputs": [],
   "source": [
    "vectors = vectorize(student_notes)\n",
    "s_vectors = list(zip(student_files, vectors))\n",
    "plagiarism_results = set()\n"
   ]
  },
  {
   "cell_type": "code",
   "execution_count": 5,
   "id": "c27b75be",
   "metadata": {},
   "outputs": [],
   "source": [
    "def check_plagiarism():\n",
    "    global s_vectors\n",
    "    for student_a, text_vector_a in s_vectors:\n",
    "        new_vectors = s_vectors.copy()\n",
    "        current_index = new_vectors.index((student_a, text_vector_a))\n",
    "        del new_vectors[current_index]\n",
    "        for student_b, text_vector_b in new_vectors:\n",
    "            sim_score = similarity(text_vector_a, text_vector_b)[0][1]\n",
    "            student_pair = sorted((student_a, student_b))\n",
    "            score = (student_pair[0], student_pair[1], sim_score)\n",
    "            plagiarism_results.add(score)\n",
    "    return plagiarism_results\n"
   ]
  },
  {
   "cell_type": "code",
   "execution_count": 6,
   "id": "f713a799",
   "metadata": {},
   "outputs": [
    {
     "name": "stdout",
     "output_type": "stream",
     "text": [
      "('john.txt', 'juma.txt', 0.5465972177348937)\n",
      "('fatma.txt', 'juma.txt', 0.18643448370323357)\n",
      "('fatma.txt', 'john.txt', 0.14806887549598563)\n"
     ]
    }
   ],
   "source": [
    "for data in check_plagiarism():\n",
    "    print(data)"
   ]
  },
  {
   "cell_type": "code",
   "execution_count": null,
   "id": "5cc2409d",
   "metadata": {},
   "outputs": [],
   "source": []
  }
 ],
 "metadata": {
  "kernelspec": {
   "display_name": "Python 3 (ipykernel)",
   "language": "python",
   "name": "python3"
  },
  "language_info": {
   "codemirror_mode": {
    "name": "ipython",
    "version": 3
   },
   "file_extension": ".py",
   "mimetype": "text/x-python",
   "name": "python",
   "nbconvert_exporter": "python",
   "pygments_lexer": "ipython3",
   "version": "3.10.9"
  }
 },
 "nbformat": 4,
 "nbformat_minor": 5
}
